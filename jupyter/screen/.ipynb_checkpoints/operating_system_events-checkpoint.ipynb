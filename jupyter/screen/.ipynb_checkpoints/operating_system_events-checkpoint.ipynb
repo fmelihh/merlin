{
 "cells": [
  {
   "cell_type": "code",
   "execution_count": 16,
   "id": "69402c73-26fb-4438-9335-dd03f7ea6fff",
   "metadata": {},
   "outputs": [],
   "source": [
    "# sudo apt install libgirepository1.0-dev gcc libcairo2-dev pkg-config python3-dev gir1.2-gtk-4.0"
   ]
  },
  {
   "cell_type": "code",
   "execution_count": 12,
   "id": "c0072a9a-99cd-4e21-b456-18d056400634",
   "metadata": {
    "scrolled": true
   },
   "outputs": [
    {
     "name": "stdout",
     "output_type": "stream",
     "text": [
      "The following packages are already present in the pyproject.toml and will be skipped:\n",
      "\n",
      "  • \u001b[36mpycairo\u001b[39m\n",
      "  • \u001b[36mPyGObject\u001b[39m\n",
      "\n",
      "If you want to update it to the latest compatible version, you can use `poetry update package`.\n",
      "If you prefer to upgrade it to the latest available version, you can use `poetry add package@latest`.\n",
      "\n",
      "\n",
      "\u001b[31;1mCould not find a matching version of package dbus\u001b[39;22m\n"
     ]
    }
   ],
   "source": [
    "# !poetry add pydbus==0.6.0 pycairo PyGObject dbus"
   ]
  },
  {
   "cell_type": "code",
   "execution_count": 13,
   "id": "87874dcb-ad57-4efc-bcc9-c0e27eebabfc",
   "metadata": {},
   "outputs": [],
   "source": [
    "from gi.repository import GLib\n",
    "from pydbus import SystemBus, SessionBus"
   ]
  },
  {
   "cell_type": "code",
   "execution_count": 14,
   "id": "251da950-f7f5-4f22-9488-f59be6514714",
   "metadata": {},
   "outputs": [],
   "source": [
    "bus = SessionBus()"
   ]
  },
  {
   "cell_type": "code",
   "execution_count": 3,
   "id": "38f276ec-279d-4a04-9d55-d6051b481d89",
   "metadata": {},
   "outputs": [],
   "source": [
    "# notifications = bus.get('.Notifications')\n",
    "# notifications.Notify('test', 0, 'dialog-information', \"Hello World!\", \"pydbus works :)\", [], {}, 5000)"
   ]
  },
  {
   "cell_type": "code",
   "execution_count": 18,
   "id": "9e3bf58e-ffeb-47e9-85b7-be90596126be",
   "metadata": {
    "scrolled": true
   },
   "outputs": [],
   "source": [
    "screen = bus.get(\"org.gnome.ScreenSaver\", \"/org/gnome/ScreenSaver\")"
   ]
  },
  {
   "cell_type": "code",
   "execution_count": 30,
   "id": "eb332cdb-7810-47c1-82ef-7af7dee3f4a1",
   "metadata": {},
   "outputs": [],
   "source": [
    "def callback(*args, **kwargs):\n",
    "    print(args, kwargs)"
   ]
  },
  {
   "cell_type": "code",
   "execution_count": 33,
   "id": "d9b00556-418d-4a5f-acca-ec156d5022cc",
   "metadata": {},
   "outputs": [],
   "source": [
    "screen.onPropertiesChanged = callback\n",
    "screen.onActiveChanged = callback\n",
    "screen.onWakeUpScreen = callback"
   ]
  },
  {
   "cell_type": "code",
   "execution_count": 35,
   "id": "e6be5ce5-6b00-4fd9-a5c6-6a89e55e41f1",
   "metadata": {},
   "outputs": [
    {
     "data": {
      "text/plain": [
       "False"
      ]
     },
     "execution_count": 35,
     "metadata": {},
     "output_type": "execute_result"
    }
   ],
   "source": [
    "screen.GetActive()"
   ]
  },
  {
   "cell_type": "code",
   "execution_count": null,
   "id": "a8fa8d36-6684-4555-8ab0-591920353363",
   "metadata": {},
   "outputs": [],
   "source": []
  },
  {
   "cell_type": "code",
   "execution_count": 29,
   "id": "828d3751-8fd5-48b0-8e57-9935a2852391",
   "metadata": {},
   "outputs": [],
   "source": [
    "import html"
   ]
  },
  {
   "cell_type": "code",
   "execution_count": null,
   "id": "bf5c6cd8-f8d7-4e37-9106-5a2c4cf17e98",
   "metadata": {},
   "outputs": [],
   "source": []
  },
  {
   "cell_type": "code",
   "execution_count": 10,
   "id": "9816ed10-42fa-40a1-9765-6f57771d4da3",
   "metadata": {},
   "outputs": [],
   "source": [
    "loop = GLib.MainLoop()"
   ]
  },
  {
   "cell_type": "code",
   "execution_count": null,
   "id": "d38b3cbc-4e89-4487-a24f-3e86e33040ff",
   "metadata": {},
   "outputs": [],
   "source": [
    "loop.run()"
   ]
  },
  {
   "cell_type": "code",
   "execution_count": null,
   "id": "69314b88-11ba-4d95-a289-e5b377c2025a",
   "metadata": {},
   "outputs": [],
   "source": []
  }
 ],
 "metadata": {
  "kernelspec": {
   "display_name": "Python 3 (ipykernel)",
   "language": "python",
   "name": "python3"
  },
  "language_info": {
   "codemirror_mode": {
    "name": "ipython",
    "version": 3
   },
   "file_extension": ".py",
   "mimetype": "text/x-python",
   "name": "python",
   "nbconvert_exporter": "python",
   "pygments_lexer": "ipython3",
   "version": "3.11.5"
  }
 },
 "nbformat": 4,
 "nbformat_minor": 5
}
