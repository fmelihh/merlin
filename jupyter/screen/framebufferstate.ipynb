{
 "cells": [
  {
   "cell_type": "code",
   "execution_count": 1,
   "id": "66c5426a-a4e3-44ab-b039-ea9aadba4a14",
   "metadata": {
    "scrolled": true
   },
   "outputs": [
    {
     "name": "stdout",
     "output_type": "stream",
     "text": [
      "The following packages are already present in the pyproject.toml and will be skipped:\n",
      "\n",
      "  • \u001B[36mopencv-python-headless\u001B[39m\n",
      "  • \u001B[36mopencv_jupyter_ui\u001B[39m\n",
      "\n",
      "If you want to update it to the latest compatible version, you can use `poetry update package`.\n",
      "If you prefer to upgrade it to the latest available version, you can use `poetry add package@latest`.\n",
      "\n",
      "Nothing to add.\n"
     ]
    }
   ],
   "source": [
    "!poetry add opencv-python-headless opencv_jupyter_ui"
   ]
  },
  {
   "cell_type": "markdown",
   "id": "0ee26006-4551-430c-9ac8-0799beb2532c",
   "metadata": {},
   "source": [
    "# Image capturing with mss lib"
   ]
  },
  {
   "cell_type": "code",
   "execution_count": 22,
   "id": "f6e43dd8-1e31-4e41-81b5-bb2b74f5417e",
   "metadata": {},
   "outputs": [],
   "source": [
    "from mss import mss\n",
    "\n",
    "monitor = {'left': 0, 'top': 0, 'width': 1920, 'height': 1200}\n",
    "# The simplest use, save a screen shot of the 1st monitor\n",
    "with mss() as sct:\n",
    "    image1 = sct.grab(monitor)\n",
    "    # print(\"hello world\")\n",
    "    image2 = sct.grab(monitor)"
   ]
  },
  {
   "cell_type": "markdown",
   "id": "9c2f23cd-6db5-4f86-ba27-09b4c2cceaa0",
   "metadata": {
    "collapsed": false,
    "jupyter": {
     "outputs_hidden": false
    }
   },
   "source": [
    "## Converting image to HXW Numpy Matrix"
   ]
  },
  {
   "cell_type": "code",
   "execution_count": 23,
   "id": "69880840-730c-4911-a634-d997abc56781",
   "metadata": {},
   "outputs": [],
   "source": [
    "import cv2\n",
    "import numpy as np\n",
    "import opencv_jupyter_ui as jcv2"
   ]
  },
  {
   "cell_type": "code",
   "execution_count": 24,
   "id": "4bb29f1b-069d-42c6-9b9e-b6c19bf0cb5c",
   "metadata": {},
   "outputs": [],
   "source": [
    "image1_np_arr = np.float32(np.array(image1.pixels))\n",
    "image2_np_arr = np.float32(np.array(image1.pixels))"
   ]
  },
  {
   "cell_type": "markdown",
   "id": "c1979376-e468-4e8f-a84e-628948cfd8a8",
   "metadata": {},
   "source": [
    "## Finding difference two matrix"
   ]
  },
  {
   "cell_type": "code",
   "execution_count": 25,
   "id": "d802a247-2183-41a9-94af-b3239c1f6623",
   "metadata": {},
   "outputs": [],
   "source": [
    "gray1 = cv2.cvtColor(image1_np_arr, cv2.COLOR_BGR2GRAY)"
   ]
  },
  {
   "cell_type": "code",
   "execution_count": 26,
   "id": "fc98daac-f5b5-40a1-9c84-315247f91849",
   "metadata": {},
   "outputs": [],
   "source": [
    "gray2 = cv2.cvtColor(image2_np_arr, cv2.COLOR_BGR2GRAY)"
   ]
  },
  {
   "cell_type": "code",
   "execution_count": 27,
   "id": "bbd689e3-1e55-4ced-9d8d-674dd2ea2b61",
   "metadata": {},
   "outputs": [],
   "source": [
    "diff = cv2.absdiff(gray1, gray2)"
   ]
  },
  {
   "cell_type": "code",
   "execution_count": 28,
   "id": "18c5d7f3-fb4e-4a6b-8253-ed8977e0bd1e",
   "metadata": {},
   "outputs": [],
   "source": [
    "# cv2.imwrite(\"absdiff.png\", diff)"
   ]
  },
  {
   "cell_type": "code",
   "execution_count": 29,
   "id": "56ded0fb-ebac-4a87-a140-b1591fcc152b",
   "metadata": {},
   "outputs": [],
   "source": [
    "_, thresh = cv2.threshold(diff, 30, 255, cv2.THRESH_BINARY)"
   ]
  },
  {
   "cell_type": "code",
   "execution_count": 30,
   "id": "770e8706-f6c5-40a4-8df4-eddd784efd2f",
   "metadata": {
    "scrolled": true
   },
   "outputs": [
    {
     "data": {
      "application/vnd.jupyter.widget-view+json": {
       "model_id": "17ac6dc4c4884de8896c6d0c8c0b734d",
       "version_major": 2,
       "version_minor": 0
      },
      "text/plain": [
       "HBox(children=(Button(button_style='danger', description='Stop', style=ButtonStyle()), HBox(children=(Label(va…"
      ]
     },
     "metadata": {},
     "output_type": "display_data"
    },
    {
     "data": {
      "application/vnd.jupyter.widget-view+json": {
       "model_id": "09d3db5b13194a1987074c2458c68915",
       "version_major": 2,
       "version_minor": 0
      },
      "text/plain": [
       "VBox(children=(HTML(value='<center>Image 1</center>'), Canvas()), layout=Layout(border_bottom='1.5px solid', b…"
      ]
     },
     "metadata": {},
     "output_type": "display_data"
    }
   ],
   "source": [
    "jcv2.imshow('Image 1', image1_np_arr)"
   ]
  },
  {
   "cell_type": "code",
   "execution_count": 20,
   "id": "9665a226-510c-4b74-80bb-286234125de4",
   "metadata": {
    "scrolled": true
   },
   "outputs": [
    {
     "data": {
      "application/vnd.jupyter.widget-view+json": {
       "model_id": "eae79aaaf3784dea8ce1ec515d2c926f",
       "version_major": 2,
       "version_minor": 0
      },
      "text/plain": [
       "HBox(children=(Button(button_style='danger', description='Stop', style=ButtonStyle()), HBox(children=(Label(va…"
      ]
     },
     "metadata": {},
     "output_type": "display_data"
    },
    {
     "data": {
      "application/vnd.jupyter.widget-view+json": {
       "model_id": "7040d974733e4be3bf70920175e01930",
       "version_major": 2,
       "version_minor": 0
      },
      "text/plain": [
       "VBox(children=(HTML(value='<center>Image 2</center>'), Canvas()), layout=Layout(border_bottom='1.5px solid', b…"
      ]
     },
     "metadata": {},
     "output_type": "display_data"
    }
   ],
   "source": [
    "jcv2.imshow('Image 2', image2_np_arr)"
   ]
  },
  {
   "cell_type": "code",
   "execution_count": 34,
   "id": "75647abf-a512-4793-9d2c-edaaf258bb15",
   "metadata": {
    "scrolled": true
   },
   "outputs": [
    {
     "data": {
      "application/vnd.jupyter.widget-view+json": {
       "model_id": "dde74227cba449dcbe3b1c9951f3c159",
       "version_major": 2,
       "version_minor": 0
      },
      "text/plain": [
       "HBox(children=(Button(button_style='danger', description='Stop', style=ButtonStyle()), HBox(children=(Label(va…"
      ]
     },
     "metadata": {},
     "output_type": "display_data"
    },
    {
     "data": {
      "application/vnd.jupyter.widget-view+json": {
       "model_id": "6e3fe9df15e043458250543564acf77d",
       "version_major": 2,
       "version_minor": 0
      },
      "text/plain": [
       "VBox(children=(HTML(value='<center>Diff</center>'), Canvas()), layout=Layout(border_bottom='1.5px solid', bord…"
      ]
     },
     "metadata": {},
     "output_type": "display_data"
    }
   ],
   "source": [
    "thresh_colored = cv2.cvtColor(thresh, cv2.COLOR_GRAY2BGR)\n",
    "jcv2.imshow('Diff', thresh_colored)"
   ]
  },
  {
   "cell_type": "markdown",
   "id": "ba1e0158-45d0-433d-9b23-2fa82b92691a",
   "metadata": {},
   "source": [
    "## Finding Non black pixel values and creating positions response"
   ]
  },
  {
   "cell_type": "code",
   "execution_count": 31,
   "id": "65190504-da14-43ec-b3e9-2c782b95979d",
   "metadata": {},
   "outputs": [],
   "source": [
    "non_black_pixels = np.column_stack(np.where(thresh_colored != [0, 0, 0]))\n",
    "non_black_colors = thresh_colored[non_black_pixels[:, 0], non_black_pixels[:, 1]]"
   ]
  },
  {
   "cell_type": "code",
   "execution_count": 32,
   "id": "15c01060-9f98-4bce-8fbe-697a983831fb",
   "metadata": {},
   "outputs": [],
   "source": [
    "response = []\n",
    "for coord, color in zip(non_black_pixels, non_black_colors):\n",
    "    response.append(\n",
    "        {\n",
    "            \"coordinates\": tuple(coord),\n",
    "            \"color\": tuple(color)\n",
    "        }\n",
    "    )"
   ]
  },
  {
   "cell_type": "markdown",
   "id": "ef19d9e7-503e-4cb6-9c99-5e3feede1d04",
   "metadata": {},
   "source": [
    "## Optimization State"
   ]
  },
  {
   "cell_type": "code",
   "execution_count": 33,
   "id": "bbcc6eac-2c8c-4efe-8b04-bf2d9350abde",
   "metadata": {},
   "outputs": [
    {
     "data": {
      "text/plain": [
       "(33168, 2280000)"
      ]
     },
     "execution_count": 33,
     "metadata": {},
     "output_type": "execute_result"
    }
   ],
   "source": [
    "len(response), (1900 * 1200)"
   ]
  },
  {
   "cell_type": "code",
   "execution_count": 26,
   "id": "e80c793e-5428-4c82-b373-63159c1f4e40",
   "metadata": {},
   "outputs": [
    {
     "data": {
      "text/plain": [
       "array([[255., 255., 255.],\n",
       "       [255., 255., 255.],\n",
       "       [255., 255., 255.],\n",
       "       ...,\n",
       "       [255., 255., 255.],\n",
       "       [255., 255., 255.],\n",
       "       [255., 255., 255.]], dtype=float32)"
      ]
     },
     "execution_count": 26,
     "metadata": {},
     "output_type": "execute_result"
    }
   ],
   "source": [
    "non_black_colors"
   ]
  },
  {
   "cell_type": "markdown",
   "id": "b6dd25b8-a090-4fd9-b3fb-0a74722e4beb",
   "metadata": {},
   "source": [
    "# Re create numpy array to image"
   ]
  },
  {
   "cell_type": "code",
   "execution_count": 27,
   "id": "ea5eb8c2-35df-4025-b3fe-1958b69c8c99",
   "metadata": {},
   "outputs": [],
   "source": [
    "height, width, channels = 1200, 1900, 3  # Change dimensions as needed\n",
    "result_image = np.zeros((height, width, channels), dtype=np.uint8)\n",
    "\n",
    "for entry in response:\n",
    "    coordinates = entry[\"coordinates\"]\n",
    "    color = entry[\"color\"]\n",
    "    result_image[coordinates[0], coordinates[1]] = color  # OpenCV uses (y, x) indexing"
   ]
  },
  {
   "cell_type": "code",
   "execution_count": 28,
   "id": "af2a34f8-3c0f-4ac8-b08f-63fae073d3d2",
   "metadata": {},
   "outputs": [
    {
     "data": {
      "application/vnd.jupyter.widget-view+json": {
       "model_id": "6a08f81f43804b1eb4ab12f9cd381b9e",
       "version_major": 2,
       "version_minor": 0
      },
      "text/plain": [
       "HBox(children=(Button(button_style='danger', description='Stop', style=ButtonStyle()), HBox(children=(Label(va…"
      ]
     },
     "metadata": {},
     "output_type": "display_data"
    },
    {
     "data": {
      "application/vnd.jupyter.widget-view+json": {
       "model_id": "e0161b749c03482d97f574c4af57a127",
       "version_major": 2,
       "version_minor": 0
      },
      "text/plain": [
       "VBox(children=(HTML(value='<center>Result image</center>'), Canvas()), layout=Layout(border_bottom='1.5px soli…"
      ]
     },
     "metadata": {},
     "output_type": "display_data"
    }
   ],
   "source": [
    "jcv2.imshow(\"Result image\", result_image)"
   ]
  },
  {
   "cell_type": "code",
   "execution_count": 132,
   "id": "e73f288e-b9e4-4ca4-8e19-17e37831b8a1",
   "metadata": {},
   "outputs": [
    {
     "data": {
      "text/plain": [
       "True"
      ]
     },
     "execution_count": 132,
     "metadata": {},
     "output_type": "execute_result"
    }
   ],
   "source": [
    "# cv2.imwrite(\"test.png\", result_image)"
   ]
  },
  {
   "cell_type": "code",
   "execution_count": null,
   "id": "5cab20f2-4dc5-4be3-b095-2177af9a22f6",
   "metadata": {},
   "outputs": [],
   "source": []
  }
 ],
 "metadata": {
  "kernelspec": {
   "display_name": "Python 3 (ipykernel)",
   "language": "python",
   "name": "python3"
  },
  "language_info": {
   "codemirror_mode": {
    "name": "ipython",
    "version": 3
   },
   "file_extension": ".py",
   "mimetype": "text/x-python",
   "name": "python",
   "nbconvert_exporter": "python",
   "pygments_lexer": "ipython3",
   "version": "3.11.5"
  }
 },
 "nbformat": 4,
 "nbformat_minor": 5
}
