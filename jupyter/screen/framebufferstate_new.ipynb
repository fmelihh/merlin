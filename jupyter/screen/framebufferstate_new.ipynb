{
 "cells": [
  {
   "cell_type": "code",
   "execution_count": 26,
   "id": "66c5426a-a4e3-44ab-b039-ea9aadba4a14",
   "metadata": {},
   "outputs": [
    {
     "name": "stdout",
     "output_type": "stream",
     "text": [
      "The following packages are already present in the pyproject.toml and will be skipped:\n",
      "\n",
      "  • \u001b[36mopencv-python-headless\u001b[39m\n",
      "  • \u001b[36mopencv_jupyter_ui\u001b[39m\n",
      "\n",
      "If you want to update it to the latest compatible version, you can use `poetry update package`.\n",
      "If you prefer to upgrade it to the latest available version, you can use `poetry add package@latest`.\n",
      "\n",
      "Nothing to add.\n"
     ]
    }
   ],
   "source": [
    "!poetry add opencv-python-headless opencv_jupyter_ui"
   ]
  },
  {
   "cell_type": "markdown",
   "id": "0ee26006-4551-430c-9ac8-0799beb2532c",
   "metadata": {},
   "source": [
    "# Image capturing with mss lib"
   ]
  },
  {
   "cell_type": "code",
   "execution_count": 27,
   "id": "f6e43dd8-1e31-4e41-81b5-bb2b74f5417e",
   "metadata": {},
   "outputs": [
    {
     "name": "stdout",
     "output_type": "stream",
     "text": [
      "hello world\n"
     ]
    }
   ],
   "source": [
    "from mss import mss\n",
    "\n",
    "monitor = {'left': 0, 'top': 0, 'width': 1920, 'height': 1200}\n",
    "# The simplest use, save a screen shot of the 1st monitor\n",
    "with mss() as sct:\n",
    "    image1 = sct.grab(monitor)\n",
    "    print(\"hello world\")\n",
    "    image2 = sct.grab(monitor)"
   ]
  },
  {
   "cell_type": "code",
   "execution_count": 47,
   "id": "69880840-730c-4911-a634-d997abc56781",
   "metadata": {},
   "outputs": [],
   "source": [
    "import cv2\n",
    "import numpy as np\n",
    "import opencv_jupyter_ui as jcv2"
   ]
  },
  {
   "cell_type": "code",
   "execution_count": 30,
   "id": "4bb29f1b-069d-42c6-9b9e-b6c19bf0cb5c",
   "metadata": {},
   "outputs": [],
   "source": [
    "image1_np_arr = np.float32(np.array(image1.pixels))\n",
    "image2_np_arr = np.float32(np.array(image2.pixels))"
   ]
  },
  {
   "cell_type": "code",
   "execution_count": 5,
   "id": "d802a247-2183-41a9-94af-b3239c1f6623",
   "metadata": {},
   "outputs": [],
   "source": [
    "gray1 = cv2.cvtColor(image1_np_arr, cv2.COLOR_BGR2GRAY)"
   ]
  },
  {
   "cell_type": "code",
   "execution_count": 6,
   "id": "fc98daac-f5b5-40a1-9c84-315247f91849",
   "metadata": {},
   "outputs": [],
   "source": [
    "gray2 = cv2.cvtColor(image2_np_arr, cv2.COLOR_BGR2GRAY)"
   ]
  },
  {
   "cell_type": "code",
   "execution_count": 19,
   "id": "bbd689e3-1e55-4ced-9d8d-674dd2ea2b61",
   "metadata": {},
   "outputs": [],
   "source": [
    "diff = cv2.absdiff(gray1, gray2)"
   ]
  },
  {
   "cell_type": "code",
   "execution_count": 46,
   "id": "18c5d7f3-fb4e-4a6b-8253-ed8977e0bd1e",
   "metadata": {},
   "outputs": [],
   "source": [
    "# cv2.imwrite(\"absdiff.png\", diff)"
   ]
  },
  {
   "cell_type": "code",
   "execution_count": 8,
   "id": "56ded0fb-ebac-4a87-a140-b1591fcc152b",
   "metadata": {},
   "outputs": [],
   "source": [
    "_, thresh = cv2.threshold(diff, 30, 255, cv2.THRESH_BINARY)"
   ]
  },
  {
   "cell_type": "code",
   "execution_count": 45,
   "id": "770e8706-f6c5-40a4-8df4-eddd784efd2f",
   "metadata": {
    "collapsed": true,
    "jupyter": {
     "outputs_hidden": true
    },
    "scrolled": true
   },
   "outputs": [
    {
     "data": {
      "application/vnd.jupyter.widget-view+json": {
       "model_id": "bb17d223cb6e49c3840961ecb885cbd9",
       "version_major": 2,
       "version_minor": 0
      },
      "text/plain": [
       "HBox(children=(Button(button_style='danger', description='Stop', style=ButtonStyle()), HBox(children=(Label(va…"
      ]
     },
     "metadata": {},
     "output_type": "display_data"
    },
    {
     "data": {
      "application/vnd.jupyter.widget-view+json": {
       "model_id": "fbb3599d0e7e4e03955e2a05f6a1c1df",
       "version_major": 2,
       "version_minor": 0
      },
      "text/plain": [
       "VBox(children=(HTML(value='<center>Image 1</center>'), Canvas()), layout=Layout(border_bottom='1.5px solid', b…"
      ]
     },
     "metadata": {},
     "output_type": "display_data"
    }
   ],
   "source": [
    "jcv2.imshow('Image 1', image1_np_arr)"
   ]
  },
  {
   "cell_type": "code",
   "execution_count": 11,
   "id": "9665a226-510c-4b74-80bb-286234125de4",
   "metadata": {
    "collapsed": true,
    "jupyter": {
     "outputs_hidden": true
    },
    "scrolled": true
   },
   "outputs": [
    {
     "data": {
      "application/vnd.jupyter.widget-view+json": {
       "model_id": "368b05f573e34bcba6adfe39bd136ba7",
       "version_major": 2,
       "version_minor": 0
      },
      "text/plain": [
       "HBox(children=(Button(button_style='danger', description='Stop', style=ButtonStyle()), HBox(children=(Label(va…"
      ]
     },
     "metadata": {},
     "output_type": "display_data"
    },
    {
     "data": {
      "application/vnd.jupyter.widget-view+json": {
       "model_id": "55845756a4b742daa81b637af8de29b0",
       "version_major": 2,
       "version_minor": 0
      },
      "text/plain": [
       "VBox(children=(HTML(value='<center>Image 2</center>'), Canvas()), layout=Layout(border_bottom='1.5px solid', b…"
      ]
     },
     "metadata": {},
     "output_type": "display_data"
    }
   ],
   "source": [
    "jcv2.imshow('Image 2', image2_np_arr)"
   ]
  },
  {
   "cell_type": "code",
   "execution_count": 80,
   "id": "75647abf-a512-4793-9d2c-edaaf258bb15",
   "metadata": {
    "scrolled": true
   },
   "outputs": [
    {
     "data": {
      "application/vnd.jupyter.widget-view+json": {
       "model_id": "d0950bb7d3034300a7ac0ba8194549f4",
       "version_major": 2,
       "version_minor": 0
      },
      "text/plain": [
       "HBox(children=(Button(button_style='danger', description='Stop', style=ButtonStyle()), HBox(children=(Label(va…"
      ]
     },
     "metadata": {},
     "output_type": "display_data"
    },
    {
     "data": {
      "application/vnd.jupyter.widget-view+json": {
       "model_id": "b129f53f7c8a4d80b905883c78ac708f",
       "version_major": 2,
       "version_minor": 0
      },
      "text/plain": [
       "VBox(children=(HTML(value='<center>Diff</center>'), Canvas()), layout=Layout(border_bottom='1.5px solid', bord…"
      ]
     },
     "metadata": {},
     "output_type": "display_data"
    }
   ],
   "source": [
    "thresh_colored = cv2.cvtColor(thresh, cv2.COLOR_GRAY2BGR)\n",
    "jcv2.imshow('Diff', thresh_colored)"
   ]
  },
  {
   "cell_type": "code",
   "execution_count": 48,
   "id": "3e2cd327-f6e0-490e-add8-0a60224723f7",
   "metadata": {},
   "outputs": [],
   "source": [
    "positions = np.column_stack(np.where(thresh_colored != [0,0,0]))"
   ]
  },
  {
   "cell_type": "code",
   "execution_count": 90,
   "id": "00b92fd0-81a3-45c4-97c8-f2319f95fdd8",
   "metadata": {},
   "outputs": [
    {
     "data": {
      "text/plain": [
       "array([[ 225, 1853,    0],\n",
       "       [ 225, 1853,    1],\n",
       "       [ 225, 1853,    2],\n",
       "       ...,\n",
       "       [1139, 1558,    0],\n",
       "       [1139, 1558,    1],\n",
       "       [1139, 1558,    2]])"
      ]
     },
     "execution_count": 90,
     "metadata": {},
     "output_type": "execute_result"
    }
   ],
   "source": [
    "positions[:]"
   ]
  },
  {
   "cell_type": "code",
   "execution_count": 141,
   "id": "65190504-da14-43ec-b3e9-2c782b95979d",
   "metadata": {},
   "outputs": [],
   "source": [
    "non_black_pixels = np.column_stack(np.where(thresh_colored != [0, 0, 0]))\n",
    "non_black_colors = thresh_colored[non_black_pixels[:, 0], non_black_pixels[:, 1]]"
   ]
  },
  {
   "cell_type": "code",
   "execution_count": 142,
   "id": "15c01060-9f98-4bce-8fbe-697a983831fb",
   "metadata": {},
   "outputs": [],
   "source": [
    "response = []\n",
    "for coord, color in zip(non_black_pixels, non_black_colors):\n",
    "    response.append(\n",
    "        {\n",
    "            \"coordinates\": tuple(coord),\n",
    "            \"color\": tuple(color)\n",
    "        }\n",
    "    )"
   ]
  },
  {
   "cell_type": "code",
   "execution_count": 143,
   "id": "e80c793e-5428-4c82-b373-63159c1f4e40",
   "metadata": {},
   "outputs": [
    {
     "data": {
      "text/plain": [
       "array([[255., 255., 255.],\n",
       "       [255., 255., 255.],\n",
       "       [255., 255., 255.],\n",
       "       ...,\n",
       "       [255., 255., 255.],\n",
       "       [255., 255., 255.],\n",
       "       [255., 255., 255.]], dtype=float32)"
      ]
     },
     "execution_count": 143,
     "metadata": {},
     "output_type": "execute_result"
    }
   ],
   "source": [
    "non_black_colors"
   ]
  },
  {
   "cell_type": "code",
   "execution_count": 144,
   "id": "ea5eb8c2-35df-4025-b3fe-1958b69c8c99",
   "metadata": {},
   "outputs": [],
   "source": [
    "height, width, channels = 1200, 1900, 3  # Change dimensions as needed\n",
    "result_image = np.zeros((height, width, channels), dtype=np.uint8)\n",
    "\n",
    "for entry in response:\n",
    "    coordinates = entry[\"coordinates\"]\n",
    "    color = entry[\"color\"]\n",
    "    result_image[coordinates[0], coordinates[1]] = color  # OpenCV uses (y, x) indexing"
   ]
  },
  {
   "cell_type": "code",
   "execution_count": 145,
   "id": "af2a34f8-3c0f-4ac8-b08f-63fae073d3d2",
   "metadata": {},
   "outputs": [
    {
     "data": {
      "application/vnd.jupyter.widget-view+json": {
       "model_id": "3f9421a2992f4b0caebe91e65c1ebec7",
       "version_major": 2,
       "version_minor": 0
      },
      "text/plain": [
       "HBox(children=(Button(button_style='danger', description='Stop', style=ButtonStyle()), HBox(children=(Label(va…"
      ]
     },
     "metadata": {},
     "output_type": "display_data"
    },
    {
     "data": {
      "application/vnd.jupyter.widget-view+json": {
       "model_id": "fb8eeedc55f64f53b748ae17844a0a77",
       "version_major": 2,
       "version_minor": 0
      },
      "text/plain": [
       "VBox(children=(HTML(value='<center>Result image</center>'), Canvas()), layout=Layout(border_bottom='1.5px soli…"
      ]
     },
     "metadata": {},
     "output_type": "display_data"
    }
   ],
   "source": [
    "jcv2.imshow(\"Result image\", result_image)"
   ]
  },
  {
   "cell_type": "code",
   "execution_count": 132,
   "id": "e73f288e-b9e4-4ca4-8e19-17e37831b8a1",
   "metadata": {},
   "outputs": [
    {
     "data": {
      "text/plain": [
       "True"
      ]
     },
     "execution_count": 132,
     "metadata": {},
     "output_type": "execute_result"
    }
   ],
   "source": [
    "cv2.imwrite(\"test.png\", result_image)"
   ]
  },
  {
   "cell_type": "code",
   "execution_count": null,
   "id": "9a829569-da5a-4780-b1b5-def1acf825ba",
   "metadata": {},
   "outputs": [],
   "source": []
  }
 ],
 "metadata": {
  "kernelspec": {
   "display_name": "Python 3 (ipykernel)",
   "language": "python",
   "name": "python3"
  },
  "language_info": {
   "codemirror_mode": {
    "name": "ipython",
    "version": 3
   },
   "file_extension": ".py",
   "mimetype": "text/x-python",
   "name": "python",
   "nbconvert_exporter": "python",
   "pygments_lexer": "ipython3",
   "version": "3.11.5"
  }
 },
 "nbformat": 4,
 "nbformat_minor": 5
}
