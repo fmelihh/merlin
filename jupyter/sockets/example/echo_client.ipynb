{
 "cells": [
  {
   "cell_type": "code",
   "execution_count": null,
   "id": "25f4b250-cdcb-4de0-83a8-b0e624c3688c",
   "metadata": {},
   "outputs": [],
   "source": [
    "# https://realpython.com/python-sockets/#background"
   ]
  },
  {
   "cell_type": "code",
   "execution_count": 1,
   "id": "e64d74b0-b2d1-4555-9c0e-40aa6f542c87",
   "metadata": {},
   "outputs": [],
   "source": [
    "import socket"
   ]
  },
  {
   "cell_type": "code",
   "execution_count": 2,
   "id": "871eb4e5-d3b0-4084-ae3e-a3b83bc19d90",
   "metadata": {},
   "outputs": [],
   "source": [
    "HOST = \"0.0.0.0\"\n",
    "PORT = 7000"
   ]
  },
  {
   "cell_type": "code",
   "execution_count": 3,
   "id": "a60b8e15-3013-4d39-8e84-b64b0a32b36f",
   "metadata": {},
   "outputs": [
    {
     "name": "stdout",
     "output_type": "stream",
     "text": [
      "Received b'TEST ECHO!'\n"
     ]
    }
   ],
   "source": [
    "with socket.socket(socket.AF_INET, socket.SOCK_STREAM) as s:\n",
    "    s.connect((HOST, PORT))\n",
    "    s.sendall(b\"TEST ECHO!\")\n",
    "    data = s.recv(1024)\n",
    "\n",
    "print(f\"Received {data!r}\")"
   ]
  },
  {
   "cell_type": "code",
   "execution_count": null,
   "id": "9d365230-4c8b-40a1-9f47-514620669032",
   "metadata": {},
   "outputs": [],
   "source": []
  }
 ],
 "metadata": {
  "kernelspec": {
   "display_name": "Python 3 (ipykernel)",
   "language": "python",
   "name": "python3"
  },
  "language_info": {
   "codemirror_mode": {
    "name": "ipython",
    "version": 3
   },
   "file_extension": ".py",
   "mimetype": "text/x-python",
   "name": "python",
   "nbconvert_exporter": "python",
   "pygments_lexer": "ipython3",
   "version": "3.11.5"
  }
 },
 "nbformat": 4,
 "nbformat_minor": 5
}
